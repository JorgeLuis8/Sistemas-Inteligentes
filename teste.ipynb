{
 "cells": [
  {
   "cell_type": "code",
   "execution_count": 6,
   "id": "1627628c",
   "metadata": {},
   "outputs": [
    {
     "ename": "ModuleNotFoundError",
     "evalue": "No module named 'matplotlib'",
     "output_type": "error",
     "traceback": [
      "\u001b[31m---------------------------------------------------------------------------\u001b[39m",
      "\u001b[31mModuleNotFoundError\u001b[39m                       Traceback (most recent call last)",
      "\u001b[36mCell\u001b[39m\u001b[36m \u001b[39m\u001b[32mIn[6]\u001b[39m\u001b[32m, line 3\u001b[39m\n\u001b[32m      1\u001b[39m \u001b[38;5;28;01mimport\u001b[39;00m\u001b[38;5;250m \u001b[39m\u001b[34;01mrandom\u001b[39;00m\n\u001b[32m      2\u001b[39m \u001b[38;5;28;01mimport\u001b[39;00m\u001b[38;5;250m \u001b[39m\u001b[34;01mmath\u001b[39;00m\n\u001b[32m----> \u001b[39m\u001b[32m3\u001b[39m \u001b[38;5;28;01mimport\u001b[39;00m\u001b[38;5;250m \u001b[39m\u001b[34;01mmatplotlib\u001b[39;00m\u001b[34;01m.\u001b[39;00m\u001b[34;01mpyplot\u001b[39;00m\u001b[38;5;250m \u001b[39m\u001b[38;5;28;01mas\u001b[39;00m\u001b[38;5;250m \u001b[39m\u001b[34;01mplt\u001b[39;00m\n\u001b[32m      6\u001b[39m BOUNDS = (\u001b[32m0\u001b[39m, \u001b[32m100\u001b[39m, \u001b[32m0\u001b[39m, \u001b[32m60\u001b[39m)\n\u001b[32m      8\u001b[39m NUM_OBS = \u001b[32m500\u001b[39m\n",
      "\u001b[31mModuleNotFoundError\u001b[39m: No module named 'matplotlib'"
     ]
    }
   ],
   "source": [
    "import random\n",
    "import math\n",
    "import matplotlib.pyplot as plt\n",
    "\n",
    "\n",
    "BOUNDS = (0, 100, 0, 60)\n",
    "\n",
    "NUM_OBS = 500\n",
    "RADIUS  = 0.5   \n",
    "\n",
    "MARGIN_FROM_POINTS = 6.0\n",
    "\n",
    "\n",
    "MIN_GAP_BETWEEN_OBS = 1.0  \n",
    "BORDER_GAP          = 0.0   \n",
    "\n",
    "\n",
    "MAX_TRIES = 50_000\n",
    "SEED = 42\n",
    "if SEED is not None:\n",
    "    random.seed(SEED)\n",
    "\n",
    "\n",
    "EPS = 1.0\n",
    "PAD = 1.0\n",
    "\n",
    "\n",
    "INICIO = (BOUNDS[0] + EPS, BOUNDS[3] - EPS) \n",
    "FIM  = (BOUNDS[1] - EPS, BOUNDS[2] + EPS)\n",
    "\n",
    "print(\"Configuração carregada.\")"
   ]
  },
  {
   "cell_type": "code",
   "execution_count": 7,
   "id": "fd6cd268",
   "metadata": {},
   "outputs": [],
   "source": [
    "def dist(a, b):\n",
    "    \n",
    "    return math.hypot(a[0] - b[0], a[1] - b[1])\n",
    "\n",
    "def inside_bounds(center, r, bounds, border_gap=0.0):\n",
    "   \n",
    "    x, y = center\n",
    "    min_x, max_x, min_y, max_y = bounds\n",
    "    return (x - r - border_gap) >= min_x and (x + r + border_gap) <= max_x \\\n",
    "       and (y - r - border_gap) >= min_y and (y + r + border_gap) <= max_y\n",
    "\n",
    "def valid_center(candidate, centers, r, bounds, start, goal,\n",
    "                 clearance_pts, min_gap_between_obs=0.0, border_gap=0.0):\n",
    "    \n",
    "    if not inside_bounds(candidate, r, bounds, border_gap):\n",
    "        return False\n",
    "\n",
    "  \n",
    "    min_center_dist = 2*r + min_gap_between_obs\n",
    "    for c in centers:\n",
    "        if dist(candidate, c) < min_center_dist:\n",
    "            return False\n",
    "\n",
    "    extra = 0.5 * min_gap_between_obs\n",
    "    if dist(candidate, start) < (r + clearance_pts + extra):\n",
    "        return False\n",
    "    if dist(candidate, goal) < (r + clearance_pts + extra):\n",
    "        return False\n",
    "\n",
    "    return True\n",
    "def generate_random_centers(n, r, bounds, start, goal,\n",
    "                            clearance_pts, min_gap_between_obs=0.0,\n",
    "                            border_gap=0.0, max_tries=10000, seed=None):\n",
    "    \"\"\"Gera n centros aleatórios válidos para círculos de raio r, de forma determinística se seed for definida.\"\"\"\n",
    "    # RNG local (isolado do estado global)\n",
    "    rng = random.Random(seed) if seed is not None else random\n",
    "\n",
    "    min_x, max_x, min_y, max_y = bounds\n",
    "    centers, tries = [], 0\n",
    "\n",
    "    lo_x, hi_x = min_x + r + border_gap, max_x - r - border_gap\n",
    "    lo_y, hi_y = min_y + r + border_gap, max_y - r - border_gap\n",
    "    if lo_x > hi_x or lo_y > hi_y:\n",
    "        raise ValueError(\"Mapa pequeno demais para o raio/gaps escolhidos.\")\n",
    "\n",
    "    while len(centers) < n and tries < max_tries:\n",
    "        tries += 1\n",
    "        cand = (rng.uniform(lo_x, hi_x), rng.uniform(lo_y, hi_y))\n",
    "        if valid_center(cand, centers, r, bounds, start, goal,\n",
    "                        clearance_pts, min_gap_between_obs, border_gap):\n",
    "            centers.append(cand)\n",
    "\n",
    "    if len(centers) < n:\n",
    "        raise RuntimeError(\n",
    "            f\"Não foi possível posicionar {n} círculos após {max_tries} tentativas. \"\n",
    "            \"Reduza NUM_OBS/RADIUS/MARGIN_FROM_POINTS/MIN_GAP_BETWEEN_OBS ou aumente o mapa.\"\n",
    "        )\n",
    "    return centers\n"
   ]
  },
  {
   "cell_type": "code",
   "execution_count": null,
   "id": "b525d24a",
   "metadata": {},
   "outputs": [
    {
     "ename": "",
     "evalue": "",
     "output_type": "error",
     "traceback": [
      "\u001b[1;31mA execução de células com 'Python 3.13.6' requer o pacote ipykernel.\n",
      "\u001b[1;31m<a href='command:jupyter.createPythonEnvAndSelectController'>Crie um ambiente Python</a> com os pacotes necessários.\n",
      "\u001b[1;31mOu instale 'ipykernel' usando o comando: 'c:/Users/PuroLight/AppData/Local/Microsoft/WindowsApps/python3.13.exe -m pip install ipykernel -U --user --force-reinstall'"
     ]
    },
    {
     "ename": "",
     "evalue": "",
     "output_type": "error",
     "traceback": [
      "\u001b[1;31mA execução de células com 'Python 3.13.6' requer o pacote ipykernel.\n",
      "\u001b[1;31m<a href='command:jupyter.createPythonEnvAndSelectController'>Crie um ambiente Python</a> com os pacotes necessários.\n",
      "\u001b[1;31mOu instale 'ipykernel' usando o comando: 'c:/Users/PuroLight/AppData/Local/Microsoft/WindowsApps/python3.13.exe -m pip install ipykernel -U --user --force-reinstall'"
     ]
    },
    {
     "ename": "",
     "evalue": "",
     "output_type": "error",
     "traceback": [
      "\u001b[1;31mA execução de células com 'Python 3.13.6' requer o pacote ipykernel.\n",
      "\u001b[1;31m<a href='command:jupyter.createPythonEnvAndSelectController'>Crie um ambiente Python</a> com os pacotes necessários.\n",
      "\u001b[1;31mOu instale 'ipykernel' usando o comando: 'c:/Users/PuroLight/AppData/Local/Microsoft/WindowsApps/python3.13.exe -m pip install ipykernel -U --user --force-reinstall'"
     ]
    },
    {
     "ename": "",
     "evalue": "",
     "output_type": "error",
     "traceback": [
      "\u001b[1;31mA execução de células com 'Python 3.13.6' requer o pacote ipykernel.\n",
      "\u001b[1;31m<a href='command:jupyter.createPythonEnvAndSelectController'>Crie um ambiente Python</a> com os pacotes necessários.\n",
      "\u001b[1;31mOu instale 'ipykernel' usando o comando: 'c:/Users/PuroLight/AppData/Local/Microsoft/WindowsApps/python3.13.exe -m pip install ipykernel -U --user --force-reinstall'"
     ]
    },
    {
     "ename": "",
     "evalue": "",
     "output_type": "error",
     "traceback": [
      "\u001b[1;31mA execução de células com 'Python 3.13.6' requer o pacote ipykernel.\n",
      "\u001b[1;31m<a href='command:jupyter.createPythonEnvAndSelectController'>Crie um ambiente Python</a> com os pacotes necessários.\n",
      "\u001b[1;31mOu instale 'ipykernel' usando o comando: 'c:/Users/PuroLight/AppData/Local/Microsoft/WindowsApps/python3.13.exe -m pip install ipykernel -U --user --force-reinstall'"
     ]
    },
    {
     "ename": "",
     "evalue": "",
     "output_type": "error",
     "traceback": [
      "\u001b[1;31mA execução de células com 'Python 3.13.6' requer o pacote ipykernel.\n",
      "\u001b[1;31m<a href='command:jupyter.createPythonEnvAndSelectController'>Crie um ambiente Python</a> com os pacotes necessários.\n",
      "\u001b[1;31mOu instale 'ipykernel' usando o comando: 'c:/Users/PuroLight/AppData/Local/Microsoft/WindowsApps/python3.13.exe -m pip install ipykernel -U --user --force-reinstall'"
     ]
    }
   ],
   "source": [
    "def plot_map_and_points(bounds, Inicio, Fim, title):\n",
    "   \n",
    "    min_x, max_x, min_y, max_y = bounds\n",
    "    fig, ax = plt.subplots()\n",
    "    ax.set_title(title)\n",
    "\n",
    " \n",
    "    ax.set_xlim(min_x - PAD, max_x + PAD)\n",
    "    ax.set_ylim(min_y - PAD, max_y + PAD)\n",
    "    ax.set_aspect('equal', adjustable='box')\n",
    "    ax.autoscale(False) \n",
    "\n",
    "    ax.grid(True)\n",
    "    ax.set_xlabel(\"X\")\n",
    "    ax.set_ylabel(\"Y\")\n",
    "\n",
    "\n",
    "\n",
    "    # pontos: mesmo marcador e tamanho; cores diferentes\n",
    "    ax.scatter([Inicio[0]], [Inicio[1]], marker='o', s=80, label='Início',\n",
    "               color='tab:blue', zorder=3)\n",
    "    ax.scatter([Fim[0]],  [Fim[1]],  marker='o', s=80, label='Fim',\n",
    "               color='tab:orange', zorder=3)\n",
    "\n",
    "    ax.legend(loc='best')\n",
    "\n",
    "def plot_obstacles(centers, r):\n",
    "    \"\"\"Desenha os círculos (obstáculos) já com o Axes atual.\"\"\"\n",
    "    ax = plt.gca()\n",
    "    for c in centers:\n",
    "        ax.add_patch(plt.Circle(c, r, fill=False))  # só contorno"
   ]
  },
  {
   "cell_type": "code",
   "execution_count": null,
   "id": "77016294",
   "metadata": {},
   "outputs": [
    {
     "ename": "",
     "evalue": "",
     "output_type": "error",
     "traceback": [
      "\u001b[1;31mA execução de células com 'Python 3.13.6' requer o pacote ipykernel.\n",
      "\u001b[1;31m<a href='command:jupyter.createPythonEnvAndSelectController'>Crie um ambiente Python</a> com os pacotes necessários.\n",
      "\u001b[1;31mOu instale 'ipykernel' usando o comando: 'c:/Users/PuroLight/AppData/Local/Microsoft/WindowsApps/python3.13.exe -m pip install ipykernel -U --user --force-reinstall'"
     ]
    },
    {
     "ename": "",
     "evalue": "",
     "output_type": "error",
     "traceback": [
      "\u001b[1;31mA execução de células com 'Python 3.13.6' requer o pacote ipykernel.\n",
      "\u001b[1;31m<a href='command:jupyter.createPythonEnvAndSelectController'>Crie um ambiente Python</a> com os pacotes necessários.\n",
      "\u001b[1;31mOu instale 'ipykernel' usando o comando: 'c:/Users/PuroLight/AppData/Local/Microsoft/WindowsApps/python3.13.exe -m pip install ipykernel -U --user --force-reinstall'"
     ]
    },
    {
     "ename": "",
     "evalue": "",
     "output_type": "error",
     "traceback": [
      "\u001b[1;31mA execução de células com 'Python 3.13.6' requer o pacote ipykernel.\n",
      "\u001b[1;31m<a href='command:jupyter.createPythonEnvAndSelectController'>Crie um ambiente Python</a> com os pacotes necessários.\n",
      "\u001b[1;31mOu instale 'ipykernel' usando o comando: 'c:/Users/PuroLight/AppData/Local/Microsoft/WindowsApps/python3.13.exe -m pip install ipykernel -U --user --force-reinstall'"
     ]
    },
    {
     "ename": "",
     "evalue": "",
     "output_type": "error",
     "traceback": [
      "\u001b[1;31mA execução de células com 'Python 3.13.6' requer o pacote ipykernel.\n",
      "\u001b[1;31m<a href='command:jupyter.createPythonEnvAndSelectController'>Crie um ambiente Python</a> com os pacotes necessários.\n",
      "\u001b[1;31mOu instale 'ipykernel' usando o comando: 'c:/Users/PuroLight/AppData/Local/Microsoft/WindowsApps/python3.13.exe -m pip install ipykernel -U --user --force-reinstall'"
     ]
    },
    {
     "ename": "",
     "evalue": "",
     "output_type": "error",
     "traceback": [
      "\u001b[1;31mA execução de células com 'Python 3.13.6' requer o pacote ipykernel.\n",
      "\u001b[1;31m<a href='command:jupyter.createPythonEnvAndSelectController'>Crie um ambiente Python</a> com os pacotes necessários.\n",
      "\u001b[1;31mOu instale 'ipykernel' usando o comando: 'c:/Users/PuroLight/AppData/Local/Microsoft/WindowsApps/python3.13.exe -m pip install ipykernel -U --user --force-reinstall'"
     ]
    },
    {
     "ename": "",
     "evalue": "",
     "output_type": "error",
     "traceback": [
      "\u001b[1;31mA execução de células com 'Python 3.13.6' requer o pacote ipykernel.\n",
      "\u001b[1;31m<a href='command:jupyter.createPythonEnvAndSelectController'>Crie um ambiente Python</a> com os pacotes necessários.\n",
      "\u001b[1;31mOu instale 'ipykernel' usando o comando: 'c:/Users/PuroLight/AppData/Local/Microsoft/WindowsApps/python3.13.exe -m pip install ipykernel -U --user --force-reinstall'"
     ]
    }
   ],
   "source": [
    "total_clearance = RADIUS + MARGIN_FROM_POINTS\n",
    "\n",
    "\n",
    "plot_map_and_points(BOUNDS, INICIO, FIM, \"Mapa: apenas pontos\")\n",
    "plt.show()"
   ]
  },
  {
   "cell_type": "code",
   "execution_count": null,
   "id": "d9970e7e",
   "metadata": {},
   "outputs": [
    {
     "ename": "",
     "evalue": "",
     "output_type": "error",
     "traceback": [
      "\u001b[1;31mA execução de células com 'Python 3.13.6' requer o pacote ipykernel.\n",
      "\u001b[1;31m<a href='command:jupyter.createPythonEnvAndSelectController'>Crie um ambiente Python</a> com os pacotes necessários.\n",
      "\u001b[1;31mOu instale 'ipykernel' usando o comando: 'c:/Users/PuroLight/AppData/Local/Microsoft/WindowsApps/python3.13.exe -m pip install ipykernel -U --user --force-reinstall'"
     ]
    },
    {
     "ename": "",
     "evalue": "",
     "output_type": "error",
     "traceback": [
      "\u001b[1;31mA execução de células com 'Python 3.13.6' requer o pacote ipykernel.\n",
      "\u001b[1;31m<a href='command:jupyter.createPythonEnvAndSelectController'>Crie um ambiente Python</a> com os pacotes necessários.\n",
      "\u001b[1;31mOu instale 'ipykernel' usando o comando: 'c:/Users/PuroLight/AppData/Local/Microsoft/WindowsApps/python3.13.exe -m pip install ipykernel -U --user --force-reinstall'"
     ]
    },
    {
     "ename": "",
     "evalue": "",
     "output_type": "error",
     "traceback": [
      "\u001b[1;31mA execução de células com 'Python 3.13.6' requer o pacote ipykernel.\n",
      "\u001b[1;31m<a href='command:jupyter.createPythonEnvAndSelectController'>Crie um ambiente Python</a> com os pacotes necessários.\n",
      "\u001b[1;31mOu instale 'ipykernel' usando o comando: 'c:/Users/PuroLight/AppData/Local/Microsoft/WindowsApps/python3.13.exe -m pip install ipykernel -U --user --force-reinstall'"
     ]
    },
    {
     "ename": "",
     "evalue": "",
     "output_type": "error",
     "traceback": [
      "\u001b[1;31mA execução de células com 'Python 3.13.6' requer o pacote ipykernel.\n",
      "\u001b[1;31m<a href='command:jupyter.createPythonEnvAndSelectController'>Crie um ambiente Python</a> com os pacotes necessários.\n",
      "\u001b[1;31mOu instale 'ipykernel' usando o comando: 'c:/Users/PuroLight/AppData/Local/Microsoft/WindowsApps/python3.13.exe -m pip install ipykernel -U --user --force-reinstall'"
     ]
    },
    {
     "ename": "",
     "evalue": "",
     "output_type": "error",
     "traceback": [
      "\u001b[1;31mA execução de células com 'Python 3.13.6' requer o pacote ipykernel.\n",
      "\u001b[1;31m<a href='command:jupyter.createPythonEnvAndSelectController'>Crie um ambiente Python</a> com os pacotes necessários.\n",
      "\u001b[1;31mOu instale 'ipykernel' usando o comando: 'c:/Users/PuroLight/AppData/Local/Microsoft/WindowsApps/python3.13.exe -m pip install ipykernel -U --user --force-reinstall'"
     ]
    },
    {
     "ename": "",
     "evalue": "",
     "output_type": "error",
     "traceback": [
      "\u001b[1;31mA execução de células com 'Python 3.13.6' requer o pacote ipykernel.\n",
      "\u001b[1;31m<a href='command:jupyter.createPythonEnvAndSelectController'>Crie um ambiente Python</a> com os pacotes necessários.\n",
      "\u001b[1;31mOu instale 'ipykernel' usando o comando: 'c:/Users/PuroLight/AppData/Local/Microsoft/WindowsApps/python3.13.exe -m pip install ipykernel -U --user --force-reinstall'"
     ]
    }
   ],
   "source": [
    "centers = generate_random_centers(\n",
    "    NUM_OBS, RADIUS, BOUNDS, INICIO, FIM,\n",
    "    total_clearance,\n",
    "    min_gap_between_obs=MIN_GAP_BETWEEN_OBS,\n",
    "    border_gap=BORDER_GAP,\n",
    "    max_tries=MAX_TRIES,\n",
    "    seed=SEED   # <- garante determinismo por chamada\n",
    ")\n",
    "\n",
    "print(f\"{len(centers)} centros gerados.\")\n",
    "plot_map_and_points(BOUNDS, INICIO, FIM, \"Mapa: pontos e obstáculos\")\n",
    "plot_obstacles(centers, RADIUS)\n",
    "plt.show()"
   ]
  }
 ],
 "metadata": {
  "kernelspec": {
   "display_name": ".venv (3.13.6)",
   "language": "python",
   "name": "python3"
  },
  "language_info": {
   "codemirror_mode": {
    "name": "ipython",
    "version": 3
   },
   "file_extension": ".py",
   "mimetype": "text/x-python",
   "name": "python",
   "nbconvert_exporter": "python",
   "pygments_lexer": "ipython3",
   "version": "3.13.6"
  }
 },
 "nbformat": 4,
 "nbformat_minor": 5
}
