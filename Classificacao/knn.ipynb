{
 "cells": [
  {
   "cell_type": "code",
   "execution_count": 72,
   "id": "f4dcb4dc",
   "metadata": {},
   "outputs": [],
   "source": [
    "import pandas as pd\n",
    "import numpy as np\n",
    "from sklearn.model_selection import train_test_split, KFold, StratifiedKFold, LeaveOneOut, cross_val_score, GridSearchCV\n",
    "from sklearn.preprocessing import StandardScaler\n",
    "from sklearn.neighbors import KNeighborsClassifier\n",
    "from sklearn.metrics import accuracy_score\n",
    "import matplotlib.pyplot as plt\n",
    "import seaborn as sns\n"
   ]
  },
  {
   "cell_type": "code",
   "execution_count": 73,
   "id": "30de1175",
   "metadata": {},
   "outputs": [],
   "source": [
    "# Carregar dados\n",
    "train = pd.read_csv(\"train.csv\")\n",
    "test = pd.read_csv(\"test.csv\")\n",
    "\n",
    "# Remover colunas desnecessárias\n",
    "train = train.drop(columns=[\"id\"], errors=\"ignore\")\n",
    "test = test.drop(columns=[\"id\"], errors=\"ignore\")\n",
    "\n",
    "# Separar X e y\n",
    "X = train.drop(\"satisfaction\", axis=1)\n",
    "y = train[\"satisfaction\"].map({\"neutral or dissatisfied\": 0, \"satisfied\": 1})\n",
    "\n",
    "# One-hot encoding\n",
    "X = pd.get_dummies(X)\n",
    "test = pd.get_dummies(test)\n",
    "\n",
    "# Garantir alinhamento entre treino e teste\n",
    "X, test = X.align(test, join=\"left\", axis=1, fill_value=0)\n",
    "\n",
    "# Substituir valores ausentes\n",
    "X = X.fillna(0)\n",
    "test = test.fillna(0)\n"
   ]
  },
  {
   "cell_type": "code",
   "execution_count": 74,
   "id": "5b613902",
   "metadata": {},
   "outputs": [],
   "source": [
    "# Divisão em treino e validação (80/20)\n",
    "X_train, X_val, y_train, y_val = train_test_split(\n",
    "    X, y, test_size=0.2, random_state=42, stratify=y\n",
    ")\n",
    "\n",
    "# Normalização\n",
    "scaler = StandardScaler()\n",
    "X_train_scaled = scaler.fit_transform(X_train)\n",
    "X_val_scaled = scaler.transform(X_val)\n",
    "X_test_scaled = scaler.transform(test)\n"
   ]
  },
  {
   "cell_type": "code",
   "execution_count": null,
   "id": "6efd8ff6",
   "metadata": {},
   "outputs": [],
   "source": [
    "# Buscar o melhor valor de k\n",
    "param_grid = {\"n_neighbors\": list(range(1, 31))}\n",
    "knn = KNeighborsClassifier()\n",
    "\n",
    "cv = StratifiedKFold(n_splits=5, shuffle=True, random_state=42)\n",
    "grid = GridSearchCV(knn, param_grid, cv=cv, scoring=\"accuracy\", n_jobs=-1)\n",
    "grid.fit(X_train_scaled, y_train)\n",
    "\n",
    "best_k = grid.best_params_[\"n_neighbors\"]\n",
    "best_acc = grid.best_score_\n",
    "\n",
    "print(f\"✅ Melhor k encontrado: {best_k}\")\n",
    "print(f\"📊 Acurácia média (5-Fold): {best_acc:.4f}\")\n"
   ]
  },
  {
   "cell_type": "code",
   "execution_count": null,
   "id": "3d53b87c",
   "metadata": {},
   "outputs": [
    {
     "name": "stdout",
     "output_type": "stream",
     "text": [
      "🎯 Acurácia Hold-Out (k=9): 0.9250\n"
     ]
    }
   ],
   "source": [
    "# Dicionário para armazenar resultados\n",
    "resultados = []\n",
    "\n",
    "# === 1️⃣ Hold-Out ===\n",
    "knn = KNeighborsClassifier(n_neighbors=best_k)\n",
    "knn.fit(X_train_scaled, y_train)\n",
    "y_pred_val = knn.predict(X_val_scaled)\n",
    "acc_holdout = accuracy_score(y_val, y_pred_val)\n",
    "resultados.append([\"Hold-Out\", acc_holdout, 0.0])\n",
    "\n",
    "# === 2️⃣ K-Fold ===\n",
    "kf = KFold(n_splits=5, shuffle=True, random_state=42)\n",
    "scores_kfold = cross_val_score(KNeighborsClassifier(n_neighbors=best_k),\n",
    "                               X_train_scaled, y_train, cv=kf, scoring=\"accuracy\")\n",
    "resultados.append([\"K-Fold\", scores_kfold.mean(), scores_kfold.std()])\n",
    "\n",
    "# === 3️⃣ Stratified K-Fold ===\n",
    "skf = StratifiedKFold(n_splits=5, shuffle=True, random_state=42)\n",
    "scores_strat = cross_val_score(KNeighborsClassifier(n_neighbors=best_k),\n",
    "                               X_train_scaled, y_train, cv=skf, scoring=\"accuracy\")\n",
    "resultados.append([\"Stratified K-Fold\", scores_strat.mean(), scores_strat.std()])\n",
    "\n",
    "# === 4️⃣ Leave-One-Out ===\n",
    "subset = 1000  # usar subset para não travar\n",
    "X_small = X_train_scaled[:subset]\n",
    "y_small = y_train[:subset]\n",
    "\n",
    "loo = LeaveOneOut()\n",
    "scores_loo = cross_val_score(KNeighborsClassifier(n_neighbors=best_k),\n",
    "                             X_small, y_small, cv=loo, scoring=\"accuracy\")\n",
    "resultados.append([\"Leave-One-Out\", scores_loo.mean(), scores_loo.std()])\n",
    "\n",
    "# Converter para DataFrame\n",
    "df_resultados = pd.DataFrame(resultados, columns=[\"Técnica\", \"Acurácia Média\", \"Desvio Padrão\"])\n",
    "display(df_resultados.round(4))\n"
   ]
  },
  {
   "cell_type": "code",
   "execution_count": null,
   "id": "28b5a4ff",
   "metadata": {},
   "outputs": [
    {
     "name": "stdout",
     "output_type": "stream",
     "text": [
      "📊 K-Fold (5 folds):\n",
      "Acurácias: [0.921  0.9218 0.9225 0.9235 0.9227]\n",
      "Média: 0.9223\n",
      "Desvio padrão: 0.0009\n"
     ]
    }
   ],
   "source": [
    "plt.figure(figsize=(8,5))\n",
    "sns.barplot(data=df_resultados, x=\"Técnica\", y=\"Acurácia Média\", palette=\"viridis\")\n",
    "\n",
    "for i, row in df_resultados.iterrows():\n",
    "    plt.errorbar(x=i, y=row[\"Acurácia Média\"], yerr=row[\"Desvio Padrão\"], fmt='none', c='black', capsize=5)\n",
    "\n",
    "plt.title(f\"Comparação das Técnicas de Treinamento (k={best_k})\")\n",
    "plt.ylabel(\"Acurácia Média\")\n",
    "plt.xlabel(\"Técnica\")\n",
    "plt.ylim(0.85, 0.95)\n",
    "plt.grid(axis=\"y\", linestyle=\"--\", alpha=0.6)\n",
    "plt.show()\n"
   ]
  },
  {
   "cell_type": "code",
   "execution_count": null,
   "id": "e4538e39",
   "metadata": {},
   "outputs": [
    {
     "name": "stdout",
     "output_type": "stream",
     "text": [
      "⚖️ Stratified K-Fold (5 folds):\n",
      "Acurácias: [0.9249 0.9263 0.918  0.9202 0.9233]\n",
      "Média: 0.9225\n",
      "Desvio padrão: 0.003\n"
     ]
    }
   ],
   "source": []
  },
  {
   "cell_type": "code",
   "execution_count": null,
   "id": "66c9f3af",
   "metadata": {},
   "outputs": [
    {
     "name": "stdout",
     "output_type": "stream",
     "text": [
      "🧮 Leave-One-Out (com 1000 amostras, k=9):\n",
      "Média: 0.884\n",
      "Desvio padrão: 0.3202\n"
     ]
    }
   ],
   "source": []
  },
  {
   "cell_type": "code",
   "execution_count": null,
   "id": "97e28dbc",
   "metadata": {},
   "outputs": [
    {
     "name": "stdout",
     "output_type": "stream",
     "text": [
      "🧮 Leave-One-Out (com 1000 amostras, k=9):\n",
      "Média: 0.884\n",
      "Desvio padrão: 0.3202\n"
     ]
    }
   ],
   "source": []
  },
  {
   "cell_type": "code",
   "execution_count": null,
   "id": "3cf90386",
   "metadata": {},
   "outputs": [
    {
     "data": {
      "text/html": [
       "<div>\n",
       "<style scoped>\n",
       "    .dataframe tbody tr th:only-of-type {\n",
       "        vertical-align: middle;\n",
       "    }\n",
       "\n",
       "    .dataframe tbody tr th {\n",
       "        vertical-align: top;\n",
       "    }\n",
       "\n",
       "    .dataframe thead th {\n",
       "        text-align: right;\n",
       "    }\n",
       "</style>\n",
       "<table border=\"1\" class=\"dataframe\">\n",
       "  <thead>\n",
       "    <tr style=\"text-align: right;\">\n",
       "      <th></th>\n",
       "      <th>Técnica</th>\n",
       "      <th>Acurácia Média</th>\n",
       "      <th>Desvio Padrão</th>\n",
       "    </tr>\n",
       "  </thead>\n",
       "  <tbody>\n",
       "    <tr>\n",
       "      <th>0</th>\n",
       "      <td>Hold-Out</td>\n",
       "      <td>0.9250</td>\n",
       "      <td>0.0000</td>\n",
       "    </tr>\n",
       "    <tr>\n",
       "      <th>1</th>\n",
       "      <td>K-Fold</td>\n",
       "      <td>0.9223</td>\n",
       "      <td>0.0009</td>\n",
       "    </tr>\n",
       "    <tr>\n",
       "      <th>2</th>\n",
       "      <td>Stratified K-Fold</td>\n",
       "      <td>0.9225</td>\n",
       "      <td>0.0030</td>\n",
       "    </tr>\n",
       "    <tr>\n",
       "      <th>3</th>\n",
       "      <td>Leave-One-Out</td>\n",
       "      <td>0.8840</td>\n",
       "      <td>0.3202</td>\n",
       "    </tr>\n",
       "  </tbody>\n",
       "</table>\n",
       "</div>"
      ],
      "text/plain": [
       "             Técnica  Acurácia Média  Desvio Padrão\n",
       "0           Hold-Out          0.9250         0.0000\n",
       "1             K-Fold          0.9223         0.0009\n",
       "2  Stratified K-Fold          0.9225         0.0030\n",
       "3      Leave-One-Out          0.8840         0.3202"
      ]
     },
     "metadata": {},
     "output_type": "display_data"
    }
   ],
   "source": []
  },
  {
   "cell_type": "code",
   "execution_count": null,
   "id": "b846dcf0",
   "metadata": {},
   "outputs": [
    {
     "name": "stderr",
     "output_type": "stream",
     "text": [
      "C:\\Users\\jorge\\AppData\\Local\\Temp\\ipykernel_22952\\3698051144.py:2: FutureWarning: \n",
      "\n",
      "Passing `palette` without assigning `hue` is deprecated and will be removed in v0.14.0. Assign the `x` variable to `hue` and set `legend=False` for the same effect.\n",
      "\n",
      "  sns.barplot(data=resultados, x=\"Técnica\", y=\"Acurácia Média\", palette=\"viridis\")\n"
     ]
    },
    {
     "data": {
      "image/png": "[encoded data removed]",
      "text/plain": [
       "<Figure size 800x500 with 1 Axes>"
      ]
     },
     "metadata": {},
     "output_type": "display_data"
    }
   ],
   "source": []
  },
  {
   "cell_type": "code",
   "execution_count": null,
   "id": "4d4fa98f",
   "metadata": {},
   "outputs": [
    {
     "name": "stdout",
     "output_type": "stream",
     "text": [
      "✅ Predições geradas e salvas em 'knn_predictions.csv'\n"
     ]
    },
    {
     "data": {
      "text/html": [
       "<div>\n",
       "<style scoped>\n",
       "    .dataframe tbody tr th:only-of-type {\n",
       "        vertical-align: middle;\n",
       "    }\n",
       "\n",
       "    .dataframe tbody tr th {\n",
       "        vertical-align: top;\n",
       "    }\n",
       "\n",
       "    .dataframe thead th {\n",
       "        text-align: right;\n",
       "    }\n",
       "</style>\n",
       "<table border=\"1\" class=\"dataframe\">\n",
       "  <thead>\n",
       "    <tr style=\"text-align: right;\">\n",
       "      <th></th>\n",
       "      <th>Predicted_satisfaction</th>\n",
       "    </tr>\n",
       "  </thead>\n",
       "  <tbody>\n",
       "    <tr>\n",
       "      <th>0</th>\n",
       "      <td>satisfied</td>\n",
       "    </tr>\n",
       "    <tr>\n",
       "      <th>1</th>\n",
       "      <td>satisfied</td>\n",
       "    </tr>\n",
       "    <tr>\n",
       "      <th>2</th>\n",
       "      <td>neutral or dissatisfied</td>\n",
       "    </tr>\n",
       "    <tr>\n",
       "      <th>3</th>\n",
       "      <td>satisfied</td>\n",
       "    </tr>\n",
       "    <tr>\n",
       "      <th>4</th>\n",
       "      <td>neutral or dissatisfied</td>\n",
       "    </tr>\n",
       "  </tbody>\n",
       "</table>\n",
       "</div>"
      ],
      "text/plain": [
       "    Predicted_satisfaction\n",
       "0                satisfied\n",
       "1                satisfied\n",
       "2  neutral or dissatisfied\n",
       "3                satisfied\n",
       "4  neutral or dissatisfied"
      ]
     },
     "execution_count": 68,
     "metadata": {},
     "output_type": "execute_result"
    }
   ],
   "source": []
  },
  {
   "cell_type": "code",
   "execution_count": null,
   "id": "1464236e",
   "metadata": {},
   "outputs": [
    {
     "name": "stdout",
     "output_type": "stream",
     "text": [
      "Verdadeiro Negativo (TN): 11331\n",
      "Falso Positivo (FP): 445\n",
      "Falso Negativo (FN): 1113\n",
      "Verdadeiro Positivo (TP): 7892\n",
      "Sensibilidade (Recall Satisfeito): 0.876\n",
      "Especificidade (Recall Dissatisfeito): 0.962\n"
     ]
    }
   ],
   "source": []
  }
 ],
 "metadata": {
  "kernelspec": {
   "display_name": "Python 3",
   "language": "python",
   "name": "python3"
  },
  "language_info": {
   "codemirror_mode": {
    "name": "ipython",
    "version": 3
   },
   "file_extension": ".py",
   "mimetype": "text/x-python",
   "name": "python",
   "nbconvert_exporter": "python",
   "pygments_lexer": "ipython3",
   "version": "3.13.1"
  }
 },
 "nbformat": 4,
 "nbformat_minor": 5
}
